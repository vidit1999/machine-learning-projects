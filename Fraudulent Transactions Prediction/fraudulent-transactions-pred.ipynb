{
 "cells": [
  {
   "cell_type": "code",
   "execution_count": 1,
   "id": "23ddc5ed-8394-4609-b65f-2d03cf30e949",
   "metadata": {},
   "outputs": [],
   "source": [
    "#---------------------------------------#\n",
    "# author : https://github.com/vidit1999 #\n",
    "#---------------------------------------#"
   ]
  },
  {
   "cell_type": "code",
   "execution_count": 2,
   "id": "15cce444-abe6-4692-8ea6-dc3768a09c39",
   "metadata": {},
   "outputs": [],
   "source": [
    "import gc\n",
    "import random\n",
    "import joblib\n",
    "import warnings\n",
    "\n",
    "import numpy as np\n",
    "import pandas as pd\n",
    "import matplotlib.pyplot as plt\n",
    "import seaborn as sns\n",
    "\n",
    "from IPython.core import pylabtools\n",
    "from sklearn import set_config\n",
    "\n",
    "from sklearn.compose import ColumnTransformer\n",
    "from sklearn.pipeline import Pipeline\n",
    "from sklearn.preprocessing import RobustScaler\n",
    "from sklearn.model_selection import train_test_split, cross_validate\n",
    "from sklearn.metrics import confusion_matrix\n",
    "from imblearn.metrics import classification_report_imbalanced\n",
    "\n",
    "from imblearn.ensemble import RUSBoostClassifier\n",
    "from sklearn.ensemble import RandomForestClassifier\n",
    "\n",
    "set_config(display='diagram')\n",
    "pylabtools.figsize(16, 8)\n",
    "sns.set_style('darkgrid')\n",
    "warnings.filterwarnings(\"ignore\")"
   ]
  },
  {
   "cell_type": "code",
   "execution_count": 3,
   "id": "e92b0919-e9d2-419b-8d15-8c76eb34ff1e",
   "metadata": {},
   "outputs": [],
   "source": [
    "random.seed(0)\n",
    "np.random.seed(0)"
   ]
  },
  {
   "cell_type": "code",
   "execution_count": 4,
   "id": "079a00b7-2cfa-40c3-9520-ee4648cb2bd3",
   "metadata": {},
   "outputs": [],
   "source": [
    "# Data Dictionary:\n",
    "# step - maps a unit of time in the real world. In this case 1 step is 1 hour of time. Total steps 744 (30 days simulation).\n",
    "# type - CASH-IN, CASH-OUT, DEBIT, PAYMENT and TRANSFER.\n",
    "# amount - amount of the transaction in local currency.\n",
    "# nameOrig - customer who started the transaction\n",
    "# oldbalanceOrg - initial balance before the transaction\n",
    "# newbalanceOrig - new balance after the transaction\n",
    "# nameDest - customer who is the recipient of the transaction\n",
    "# oldbalanceDest - initial balance recipient before the transaction. Note that there is not information for customers that start with M (Merchants).\n",
    "# newbalanceDest - new balance recipient after the transaction. Note that there is not information for customers that start with M (Merchants).\n",
    "# isFraud - This is the transactions made by the fraudulent agents inside the simulation. In this specific dataset the fraudulent behavior of the agents aims to profit by taking control or customers accounts and try to empty the funds by transferring to another account and then cashing out of the system.\n",
    "# isFlaggedFraud - The business model aims to control massive transfers from one account to another and flags illegal attempts. An illegal attempt in this dataset is an attempt to transfer more than 200.000 in a single transaction."
   ]
  },
  {
   "cell_type": "code",
   "execution_count": 5,
   "id": "e05aedbc-8eca-4559-9bba-234ebac66043",
   "metadata": {},
   "outputs": [],
   "source": [
    "DEVELOPMENT = False"
   ]
  },
  {
   "cell_type": "code",
   "execution_count": 6,
   "id": "50a5cf18-5ab4-4c61-bd4f-a1a2819b2043",
   "metadata": {},
   "outputs": [
    {
     "data": {
      "text/html": [
       "<div>\n",
       "<style scoped>\n",
       "    .dataframe tbody tr th:only-of-type {\n",
       "        vertical-align: middle;\n",
       "    }\n",
       "\n",
       "    .dataframe tbody tr th {\n",
       "        vertical-align: top;\n",
       "    }\n",
       "\n",
       "    .dataframe thead th {\n",
       "        text-align: right;\n",
       "    }\n",
       "</style>\n",
       "<table border=\"1\" class=\"dataframe\">\n",
       "  <thead>\n",
       "    <tr style=\"text-align: right;\">\n",
       "      <th></th>\n",
       "      <th>type</th>\n",
       "      <th>amount</th>\n",
       "      <th>oldbalanceOrg</th>\n",
       "      <th>oldbalanceDest</th>\n",
       "      <th>isFraud</th>\n",
       "    </tr>\n",
       "  </thead>\n",
       "  <tbody>\n",
       "    <tr>\n",
       "      <th>0</th>\n",
       "      <td>PAYMENT</td>\n",
       "      <td>9839.64</td>\n",
       "      <td>170136.0</td>\n",
       "      <td>0.00</td>\n",
       "      <td>0</td>\n",
       "    </tr>\n",
       "    <tr>\n",
       "      <th>1</th>\n",
       "      <td>PAYMENT</td>\n",
       "      <td>1864.28</td>\n",
       "      <td>21249.0</td>\n",
       "      <td>0.00</td>\n",
       "      <td>0</td>\n",
       "    </tr>\n",
       "    <tr>\n",
       "      <th>2</th>\n",
       "      <td>TRANSFER</td>\n",
       "      <td>181.00</td>\n",
       "      <td>181.0</td>\n",
       "      <td>0.00</td>\n",
       "      <td>1</td>\n",
       "    </tr>\n",
       "    <tr>\n",
       "      <th>3</th>\n",
       "      <td>CASH_OUT</td>\n",
       "      <td>181.00</td>\n",
       "      <td>181.0</td>\n",
       "      <td>21182.00</td>\n",
       "      <td>1</td>\n",
       "    </tr>\n",
       "    <tr>\n",
       "      <th>4</th>\n",
       "      <td>PAYMENT</td>\n",
       "      <td>11668.14</td>\n",
       "      <td>41554.0</td>\n",
       "      <td>0.00</td>\n",
       "      <td>0</td>\n",
       "    </tr>\n",
       "    <tr>\n",
       "      <th>...</th>\n",
       "      <td>...</td>\n",
       "      <td>...</td>\n",
       "      <td>...</td>\n",
       "      <td>...</td>\n",
       "      <td>...</td>\n",
       "    </tr>\n",
       "    <tr>\n",
       "      <th>99995</th>\n",
       "      <td>PAYMENT</td>\n",
       "      <td>4020.66</td>\n",
       "      <td>159929.0</td>\n",
       "      <td>0.00</td>\n",
       "      <td>0</td>\n",
       "    </tr>\n",
       "    <tr>\n",
       "      <th>99996</th>\n",
       "      <td>PAYMENT</td>\n",
       "      <td>18345.49</td>\n",
       "      <td>6206.0</td>\n",
       "      <td>0.00</td>\n",
       "      <td>0</td>\n",
       "    </tr>\n",
       "    <tr>\n",
       "      <th>99997</th>\n",
       "      <td>CASH_IN</td>\n",
       "      <td>183774.91</td>\n",
       "      <td>39173.0</td>\n",
       "      <td>54925.05</td>\n",
       "      <td>0</td>\n",
       "    </tr>\n",
       "    <tr>\n",
       "      <th>99998</th>\n",
       "      <td>CASH_OUT</td>\n",
       "      <td>82237.17</td>\n",
       "      <td>6031.0</td>\n",
       "      <td>592635.66</td>\n",
       "      <td>0</td>\n",
       "    </tr>\n",
       "    <tr>\n",
       "      <th>99999</th>\n",
       "      <td>PAYMENT</td>\n",
       "      <td>20096.56</td>\n",
       "      <td>110117.0</td>\n",
       "      <td>0.00</td>\n",
       "      <td>0</td>\n",
       "    </tr>\n",
       "  </tbody>\n",
       "</table>\n",
       "<p>100000 rows × 5 columns</p>\n",
       "</div>"
      ],
      "text/plain": [
       "           type     amount  oldbalanceOrg  oldbalanceDest  isFraud\n",
       "0       PAYMENT    9839.64       170136.0            0.00        0\n",
       "1       PAYMENT    1864.28        21249.0            0.00        0\n",
       "2      TRANSFER     181.00          181.0            0.00        1\n",
       "3      CASH_OUT     181.00          181.0        21182.00        1\n",
       "4       PAYMENT   11668.14        41554.0            0.00        0\n",
       "...         ...        ...            ...             ...      ...\n",
       "99995   PAYMENT    4020.66       159929.0            0.00        0\n",
       "99996   PAYMENT   18345.49         6206.0            0.00        0\n",
       "99997   CASH_IN  183774.91        39173.0        54925.05        0\n",
       "99998  CASH_OUT   82237.17         6031.0       592635.66        0\n",
       "99999   PAYMENT   20096.56       110117.0            0.00        0\n",
       "\n",
       "[100000 rows x 5 columns]"
      ]
     },
     "execution_count": 6,
     "metadata": {},
     "output_type": "execute_result"
    }
   ],
   "source": [
    "df = pd.read_csv(\n",
    "    filepath_or_buffer=\"../Data/fraudulent-transactions-data.zip\",\n",
    "    nrows=10000 if DEVELOPMENT else 100000,\n",
    "    usecols=['amount', 'isFraud', 'oldbalanceDest', 'oldbalanceOrg', 'type']\n",
    ")\n",
    "df"
   ]
  },
  {
   "cell_type": "code",
   "execution_count": 7,
   "id": "9e465726-af0f-4bbb-92f5-f4e69b07e635",
   "metadata": {},
   "outputs": [
    {
     "name": "stdout",
     "output_type": "stream",
     "text": [
      "<class 'pandas.core.frame.DataFrame'>\n",
      "RangeIndex: 100000 entries, 0 to 99999\n",
      "Data columns (total 5 columns):\n",
      " #   Column          Non-Null Count   Dtype  \n",
      "---  ------          --------------   -----  \n",
      " 0   type            100000 non-null  object \n",
      " 1   amount          100000 non-null  float64\n",
      " 2   oldbalanceOrg   100000 non-null  float64\n",
      " 3   oldbalanceDest  100000 non-null  float64\n",
      " 4   isFraud         100000 non-null  int64  \n",
      "dtypes: float64(3), int64(1), object(1)\n",
      "memory usage: 3.8+ MB\n"
     ]
    }
   ],
   "source": [
    "df.info()"
   ]
  },
  {
   "cell_type": "code",
   "execution_count": 8,
   "id": "53a0be33-43f3-4bf5-bf81-9b5cbdbf3d7e",
   "metadata": {},
   "outputs": [
    {
     "data": {
      "text/plain": [
       "type              0\n",
       "amount            0\n",
       "oldbalanceOrg     0\n",
       "oldbalanceDest    0\n",
       "isFraud           0\n",
       "dtype: int64"
      ]
     },
     "execution_count": 8,
     "metadata": {},
     "output_type": "execute_result"
    }
   ],
   "source": [
    "df.isnull().sum()"
   ]
  },
  {
   "cell_type": "code",
   "execution_count": 9,
   "id": "2878d919-7827-4895-a6ea-217fc3d19ba0",
   "metadata": {},
   "outputs": [
    {
     "data": {
      "text/html": [
       "<div>\n",
       "<style scoped>\n",
       "    .dataframe tbody tr th:only-of-type {\n",
       "        vertical-align: middle;\n",
       "    }\n",
       "\n",
       "    .dataframe tbody tr th {\n",
       "        vertical-align: top;\n",
       "    }\n",
       "\n",
       "    .dataframe thead th {\n",
       "        text-align: right;\n",
       "    }\n",
       "</style>\n",
       "<table border=\"1\" class=\"dataframe\">\n",
       "  <thead>\n",
       "    <tr style=\"text-align: right;\">\n",
       "      <th></th>\n",
       "      <th>amount</th>\n",
       "      <th>oldbalanceOrg</th>\n",
       "      <th>oldbalanceDest</th>\n",
       "      <th>isFraud</th>\n",
       "    </tr>\n",
       "  </thead>\n",
       "  <tbody>\n",
       "    <tr>\n",
       "      <th>count</th>\n",
       "      <td>1.000000e+05</td>\n",
       "      <td>1.000000e+05</td>\n",
       "      <td>1.000000e+05</td>\n",
       "      <td>100000.000000</td>\n",
       "    </tr>\n",
       "    <tr>\n",
       "      <th>mean</th>\n",
       "      <td>1.736022e+05</td>\n",
       "      <td>8.777575e+05</td>\n",
       "      <td>8.805048e+05</td>\n",
       "      <td>0.001160</td>\n",
       "    </tr>\n",
       "    <tr>\n",
       "      <th>std</th>\n",
       "      <td>3.443003e+05</td>\n",
       "      <td>2.673284e+06</td>\n",
       "      <td>2.402267e+06</td>\n",
       "      <td>0.034039</td>\n",
       "    </tr>\n",
       "    <tr>\n",
       "      <th>min</th>\n",
       "      <td>3.200000e-01</td>\n",
       "      <td>0.000000e+00</td>\n",
       "      <td>0.000000e+00</td>\n",
       "      <td>0.000000</td>\n",
       "    </tr>\n",
       "    <tr>\n",
       "      <th>10%</th>\n",
       "      <td>3.528780e+03</td>\n",
       "      <td>0.000000e+00</td>\n",
       "      <td>0.000000e+00</td>\n",
       "      <td>0.000000</td>\n",
       "    </tr>\n",
       "    <tr>\n",
       "      <th>20%</th>\n",
       "      <td>7.574786e+03</td>\n",
       "      <td>0.000000e+00</td>\n",
       "      <td>0.000000e+00</td>\n",
       "      <td>0.000000</td>\n",
       "    </tr>\n",
       "    <tr>\n",
       "      <th>30%</th>\n",
       "      <td>1.289718e+04</td>\n",
       "      <td>0.000000e+00</td>\n",
       "      <td>0.000000e+00</td>\n",
       "      <td>0.000000</td>\n",
       "    </tr>\n",
       "    <tr>\n",
       "      <th>40%</th>\n",
       "      <td>2.247551e+04</td>\n",
       "      <td>5.818300e+03</td>\n",
       "      <td>0.000000e+00</td>\n",
       "      <td>0.000000</td>\n",
       "    </tr>\n",
       "    <tr>\n",
       "      <th>50%</th>\n",
       "      <td>5.274552e+04</td>\n",
       "      <td>2.006150e+04</td>\n",
       "      <td>2.083943e+04</td>\n",
       "      <td>0.000000</td>\n",
       "    </tr>\n",
       "    <tr>\n",
       "      <th>60%</th>\n",
       "      <td>1.091415e+05</td>\n",
       "      <td>4.232840e+04</td>\n",
       "      <td>1.592846e+05</td>\n",
       "      <td>0.000000</td>\n",
       "    </tr>\n",
       "    <tr>\n",
       "      <th>70%</th>\n",
       "      <td>1.735814e+05</td>\n",
       "      <td>1.051452e+05</td>\n",
       "      <td>3.978686e+05</td>\n",
       "      <td>0.000000</td>\n",
       "    </tr>\n",
       "    <tr>\n",
       "      <th>80%</th>\n",
       "      <td>2.566389e+05</td>\n",
       "      <td>3.618890e+05</td>\n",
       "      <td>8.967878e+05</td>\n",
       "      <td>0.000000</td>\n",
       "    </tr>\n",
       "    <tr>\n",
       "      <th>90%</th>\n",
       "      <td>3.976989e+05</td>\n",
       "      <td>2.554098e+06</td>\n",
       "      <td>2.208999e+06</td>\n",
       "      <td>0.000000</td>\n",
       "    </tr>\n",
       "    <tr>\n",
       "      <th>max</th>\n",
       "      <td>1.000000e+07</td>\n",
       "      <td>3.379739e+07</td>\n",
       "      <td>3.400874e+07</td>\n",
       "      <td>1.000000</td>\n",
       "    </tr>\n",
       "  </tbody>\n",
       "</table>\n",
       "</div>"
      ],
      "text/plain": [
       "             amount  oldbalanceOrg  oldbalanceDest        isFraud\n",
       "count  1.000000e+05   1.000000e+05    1.000000e+05  100000.000000\n",
       "mean   1.736022e+05   8.777575e+05    8.805048e+05       0.001160\n",
       "std    3.443003e+05   2.673284e+06    2.402267e+06       0.034039\n",
       "min    3.200000e-01   0.000000e+00    0.000000e+00       0.000000\n",
       "10%    3.528780e+03   0.000000e+00    0.000000e+00       0.000000\n",
       "20%    7.574786e+03   0.000000e+00    0.000000e+00       0.000000\n",
       "30%    1.289718e+04   0.000000e+00    0.000000e+00       0.000000\n",
       "40%    2.247551e+04   5.818300e+03    0.000000e+00       0.000000\n",
       "50%    5.274552e+04   2.006150e+04    2.083943e+04       0.000000\n",
       "60%    1.091415e+05   4.232840e+04    1.592846e+05       0.000000\n",
       "70%    1.735814e+05   1.051452e+05    3.978686e+05       0.000000\n",
       "80%    2.566389e+05   3.618890e+05    8.967878e+05       0.000000\n",
       "90%    3.976989e+05   2.554098e+06    2.208999e+06       0.000000\n",
       "max    1.000000e+07   3.379739e+07    3.400874e+07       1.000000"
      ]
     },
     "execution_count": 9,
     "metadata": {},
     "output_type": "execute_result"
    }
   ],
   "source": [
    "df.describe(percentiles=np.linspace(0.1, 0.9, 9))"
   ]
  },
  {
   "cell_type": "code",
   "execution_count": 10,
   "id": "567affd9-9b4c-492e-8200-4b3759572f78",
   "metadata": {},
   "outputs": [
    {
     "data": {
      "text/plain": [
       "0    99884\n",
       "1      116\n",
       "Name: isFraud, dtype: int64"
      ]
     },
     "execution_count": 10,
     "metadata": {},
     "output_type": "execute_result"
    }
   ],
   "source": [
    "df['isFraud'].value_counts()"
   ]
  },
  {
   "cell_type": "code",
   "execution_count": 11,
   "id": "0c9820f1-2fda-4951-903e-fc7fba46f18a",
   "metadata": {},
   "outputs": [
    {
     "data": {
      "text/plain": [
       "amount             5.428317\n",
       "oldbalanceOrg      4.957886\n",
       "oldbalanceDest     5.057145\n",
       "isFraud           29.310338\n",
       "dtype: float64"
      ]
     },
     "execution_count": 11,
     "metadata": {},
     "output_type": "execute_result"
    }
   ],
   "source": [
    "df.skew()"
   ]
  },
  {
   "cell_type": "code",
   "execution_count": 12,
   "id": "73d568db-0f6f-4d40-bfd4-6bc9fbad2574",
   "metadata": {},
   "outputs": [
    {
     "data": {
      "text/plain": [
       "amount             48.099033\n",
       "oldbalanceOrg      31.578943\n",
       "oldbalanceDest     32.478671\n",
       "isFraud           857.113042\n",
       "dtype: float64"
      ]
     },
     "execution_count": 12,
     "metadata": {},
     "output_type": "execute_result"
    }
   ],
   "source": [
    "df.kurtosis()"
   ]
  },
  {
   "cell_type": "code",
   "execution_count": 13,
   "id": "275e6d64-be41-4e73-8bbb-728566e78bf4",
   "metadata": {},
   "outputs": [],
   "source": [
    "df = pd.get_dummies(df)"
   ]
  },
  {
   "cell_type": "code",
   "execution_count": 14,
   "id": "c29e4b86-4e72-4b16-aeb1-61874cdc0da6",
   "metadata": {},
   "outputs": [
    {
     "data": {
      "text/plain": [
       "<AxesSubplot:>"
      ]
     },
     "execution_count": 14,
     "metadata": {},
     "output_type": "execute_result"
    },
    {
     "data": {
      "image/png": "[encoded data removed]",
      "text/plain": [
       "<Figure size 1152x576 with 2 Axes>"
      ]
     },
     "metadata": {},
     "output_type": "display_data"
    }
   ],
   "source": [
    "corr = df.corr()\n",
    "mask = np.triu(np.ones_like(corr))\n",
    "sns.heatmap(corr, mask=mask, annot=True)"
   ]
  },
  {
   "cell_type": "code",
   "execution_count": 15,
   "id": "360ced5e-36c3-43f0-98b4-b7e016648f1c",
   "metadata": {},
   "outputs": [
    {
     "data": {
      "text/plain": [
       "((75000, 8), (25000, 8))"
      ]
     },
     "execution_count": 15,
     "metadata": {},
     "output_type": "execute_result"
    }
   ],
   "source": [
    "X_train, X_test, y_train, y_test = train_test_split(df.drop(columns='isFraud'), df['isFraud'])\n",
    "X_train.shape, X_test.shape"
   ]
  },
  {
   "cell_type": "code",
   "execution_count": 16,
   "id": "f464613f-5a80-4f8c-b798-92280d813268",
   "metadata": {},
   "outputs": [
    {
     "data": {
      "text/plain": [
       "Index(['amount', 'oldbalanceOrg', 'oldbalanceDest', 'type_CASH_IN',\n",
       "       'type_CASH_OUT', 'type_DEBIT', 'type_PAYMENT', 'type_TRANSFER'],\n",
       "      dtype='object')"
      ]
     },
     "execution_count": 16,
     "metadata": {},
     "output_type": "execute_result"
    }
   ],
   "source": [
    "X_train.columns"
   ]
  },
  {
   "cell_type": "code",
   "execution_count": 17,
   "id": "595ae6af-1d6a-4871-84ae-537185dcf45a",
   "metadata": {},
   "outputs": [
    {
     "data": {
      "text/html": [
       "<style>#sk-118cce81-d2da-4e81-b6d6-be18367b399f {color: black;background-color: white;}#sk-118cce81-d2da-4e81-b6d6-be18367b399f pre{padding: 0;}#sk-118cce81-d2da-4e81-b6d6-be18367b399f div.sk-toggleable {background-color: white;}#sk-118cce81-d2da-4e81-b6d6-be18367b399f label.sk-toggleable__label {cursor: pointer;display: block;width: 100%;margin-bottom: 0;padding: 0.3em;box-sizing: border-box;text-align: center;}#sk-118cce81-d2da-4e81-b6d6-be18367b399f label.sk-toggleable__label-arrow:before {content: \"▸\";float: left;margin-right: 0.25em;color: #696969;}#sk-118cce81-d2da-4e81-b6d6-be18367b399f label.sk-toggleable__label-arrow:hover:before {color: black;}#sk-118cce81-d2da-4e81-b6d6-be18367b399f div.sk-estimator:hover label.sk-toggleable__label-arrow:before {color: black;}#sk-118cce81-d2da-4e81-b6d6-be18367b399f div.sk-toggleable__content {max-height: 0;max-width: 0;overflow: hidden;text-align: left;background-color: #f0f8ff;}#sk-118cce81-d2da-4e81-b6d6-be18367b399f div.sk-toggleable__content pre {margin: 0.2em;color: black;border-radius: 0.25em;background-color: #f0f8ff;}#sk-118cce81-d2da-4e81-b6d6-be18367b399f input.sk-toggleable__control:checked~div.sk-toggleable__content {max-height: 200px;max-width: 100%;overflow: auto;}#sk-118cce81-d2da-4e81-b6d6-be18367b399f input.sk-toggleable__control:checked~label.sk-toggleable__label-arrow:before {content: \"▾\";}#sk-118cce81-d2da-4e81-b6d6-be18367b399f div.sk-estimator input.sk-toggleable__control:checked~label.sk-toggleable__label {background-color: #d4ebff;}#sk-118cce81-d2da-4e81-b6d6-be18367b399f div.sk-label input.sk-toggleable__control:checked~label.sk-toggleable__label {background-color: #d4ebff;}#sk-118cce81-d2da-4e81-b6d6-be18367b399f input.sk-hidden--visually {border: 0;clip: rect(1px 1px 1px 1px);clip: rect(1px, 1px, 1px, 1px);height: 1px;margin: -1px;overflow: hidden;padding: 0;position: absolute;width: 1px;}#sk-118cce81-d2da-4e81-b6d6-be18367b399f div.sk-estimator {font-family: monospace;background-color: #f0f8ff;border: 1px dotted black;border-radius: 0.25em;box-sizing: border-box;margin-bottom: 0.5em;}#sk-118cce81-d2da-4e81-b6d6-be18367b399f div.sk-estimator:hover {background-color: #d4ebff;}#sk-118cce81-d2da-4e81-b6d6-be18367b399f div.sk-parallel-item::after {content: \"\";width: 100%;border-bottom: 1px solid gray;flex-grow: 1;}#sk-118cce81-d2da-4e81-b6d6-be18367b399f div.sk-label:hover label.sk-toggleable__label {background-color: #d4ebff;}#sk-118cce81-d2da-4e81-b6d6-be18367b399f div.sk-serial::before {content: \"\";position: absolute;border-left: 1px solid gray;box-sizing: border-box;top: 2em;bottom: 0;left: 50%;}#sk-118cce81-d2da-4e81-b6d6-be18367b399f div.sk-serial {display: flex;flex-direction: column;align-items: center;background-color: white;padding-right: 0.2em;padding-left: 0.2em;}#sk-118cce81-d2da-4e81-b6d6-be18367b399f div.sk-item {z-index: 1;}#sk-118cce81-d2da-4e81-b6d6-be18367b399f div.sk-parallel {display: flex;align-items: stretch;justify-content: center;background-color: white;}#sk-118cce81-d2da-4e81-b6d6-be18367b399f div.sk-parallel::before {content: \"\";position: absolute;border-left: 1px solid gray;box-sizing: border-box;top: 2em;bottom: 0;left: 50%;}#sk-118cce81-d2da-4e81-b6d6-be18367b399f div.sk-parallel-item {display: flex;flex-direction: column;position: relative;background-color: white;}#sk-118cce81-d2da-4e81-b6d6-be18367b399f div.sk-parallel-item:first-child::after {align-self: flex-end;width: 50%;}#sk-118cce81-d2da-4e81-b6d6-be18367b399f div.sk-parallel-item:last-child::after {align-self: flex-start;width: 50%;}#sk-118cce81-d2da-4e81-b6d6-be18367b399f div.sk-parallel-item:only-child::after {width: 0;}#sk-118cce81-d2da-4e81-b6d6-be18367b399f div.sk-dashed-wrapped {border: 1px dashed gray;margin: 0 0.4em 0.5em 0.4em;box-sizing: border-box;padding-bottom: 0.4em;background-color: white;position: relative;}#sk-118cce81-d2da-4e81-b6d6-be18367b399f div.sk-label label {font-family: monospace;font-weight: bold;background-color: white;display: inline-block;line-height: 1.2em;}#sk-118cce81-d2da-4e81-b6d6-be18367b399f div.sk-label-container {position: relative;z-index: 2;text-align: center;}#sk-118cce81-d2da-4e81-b6d6-be18367b399f div.sk-container {/* jupyter's `normalize.less` sets `[hidden] { display: none; }` but bootstrap.min.css set `[hidden] { display: none !important; }` so we also need the `!important` here to be able to override the default hidden behavior on the sphinx rendered scikit-learn.org. See: https://github.com/scikit-learn/scikit-learn/issues/21755 */display: inline-block !important;position: relative;}#sk-118cce81-d2da-4e81-b6d6-be18367b399f div.sk-text-repr-fallback {display: none;}</style><div id=\"sk-118cce81-d2da-4e81-b6d6-be18367b399f\" class=\"sk-top-container\"><div class=\"sk-text-repr-fallback\"><pre>Pipeline(steps=[(&#x27;col_trans&#x27;,\n",
       "                 ColumnTransformer(remainder=&#x27;passthrough&#x27;,\n",
       "                                   transformers=[(&#x27;robust_scaler&#x27;,\n",
       "                                                  RobustScaler(),\n",
       "                                                  [&#x27;amount&#x27;, &#x27;oldbalanceOrg&#x27;,\n",
       "                                                   &#x27;oldbalanceDest&#x27;])])),\n",
       "                (&#x27;model&#x27;,\n",
       "                 RUSBoostClassifier(base_estimator=RandomForestClassifier(n_jobs=-1),\n",
       "                                    random_state=0))])</pre><b>Please rerun this cell to show the HTML repr or trust the notebook.</b></div><div class=\"sk-container\" hidden><div class=\"sk-item sk-dashed-wrapped\"><div class=\"sk-label-container\"><div class=\"sk-label sk-toggleable\"><input class=\"sk-toggleable__control sk-hidden--visually\" id=\"bb7b0261-49bc-4aae-8a19-f5bfd1763820\" type=\"checkbox\" ><label for=\"bb7b0261-49bc-4aae-8a19-f5bfd1763820\" class=\"sk-toggleable__label sk-toggleable__label-arrow\">Pipeline</label><div class=\"sk-toggleable__content\"><pre>Pipeline(steps=[(&#x27;col_trans&#x27;,\n",
       "                 ColumnTransformer(remainder=&#x27;passthrough&#x27;,\n",
       "                                   transformers=[(&#x27;robust_scaler&#x27;,\n",
       "                                                  RobustScaler(),\n",
       "                                                  [&#x27;amount&#x27;, &#x27;oldbalanceOrg&#x27;,\n",
       "                                                   &#x27;oldbalanceDest&#x27;])])),\n",
       "                (&#x27;model&#x27;,\n",
       "                 RUSBoostClassifier(base_estimator=RandomForestClassifier(n_jobs=-1),\n",
       "                                    random_state=0))])</pre></div></div></div><div class=\"sk-serial\"><div class=\"sk-item sk-dashed-wrapped\"><div class=\"sk-label-container\"><div class=\"sk-label sk-toggleable\"><input class=\"sk-toggleable__control sk-hidden--visually\" id=\"c18af597-f8b1-46e6-8815-5854e2c3a6a0\" type=\"checkbox\" ><label for=\"c18af597-f8b1-46e6-8815-5854e2c3a6a0\" class=\"sk-toggleable__label sk-toggleable__label-arrow\">col_trans: ColumnTransformer</label><div class=\"sk-toggleable__content\"><pre>ColumnTransformer(remainder=&#x27;passthrough&#x27;,\n",
       "                  transformers=[(&#x27;robust_scaler&#x27;, RobustScaler(),\n",
       "                                 [&#x27;amount&#x27;, &#x27;oldbalanceOrg&#x27;,\n",
       "                                  &#x27;oldbalanceDest&#x27;])])</pre></div></div></div><div class=\"sk-parallel\"><div class=\"sk-parallel-item\"><div class=\"sk-item\"><div class=\"sk-label-container\"><div class=\"sk-label sk-toggleable\"><input class=\"sk-toggleable__control sk-hidden--visually\" id=\"2ca3288f-7d32-4c8e-a12c-b4568566a123\" type=\"checkbox\" ><label for=\"2ca3288f-7d32-4c8e-a12c-b4568566a123\" class=\"sk-toggleable__label sk-toggleable__label-arrow\">robust_scaler</label><div class=\"sk-toggleable__content\"><pre>[&#x27;amount&#x27;, &#x27;oldbalanceOrg&#x27;, &#x27;oldbalanceDest&#x27;]</pre></div></div></div><div class=\"sk-serial\"><div class=\"sk-item\"><div class=\"sk-estimator sk-toggleable\"><input class=\"sk-toggleable__control sk-hidden--visually\" id=\"a2e9c6b2-8c9a-4ad0-b3a1-c54a699588d7\" type=\"checkbox\" ><label for=\"a2e9c6b2-8c9a-4ad0-b3a1-c54a699588d7\" class=\"sk-toggleable__label sk-toggleable__label-arrow\">RobustScaler</label><div class=\"sk-toggleable__content\"><pre>RobustScaler()</pre></div></div></div></div></div></div><div class=\"sk-parallel-item\"><div class=\"sk-item\"><div class=\"sk-label-container\"><div class=\"sk-label sk-toggleable\"><input class=\"sk-toggleable__control sk-hidden--visually\" id=\"aacc67d3-b9d3-47af-a057-4145d7d7d3e0\" type=\"checkbox\" ><label for=\"aacc67d3-b9d3-47af-a057-4145d7d7d3e0\" class=\"sk-toggleable__label sk-toggleable__label-arrow\">remainder</label><div class=\"sk-toggleable__content\"><pre></pre></div></div></div><div class=\"sk-serial\"><div class=\"sk-item\"><div class=\"sk-estimator sk-toggleable\"><input class=\"sk-toggleable__control sk-hidden--visually\" id=\"8d394dcb-ed5f-4fc2-ac19-e2d9d6f2ca66\" type=\"checkbox\" ><label for=\"8d394dcb-ed5f-4fc2-ac19-e2d9d6f2ca66\" class=\"sk-toggleable__label sk-toggleable__label-arrow\">passthrough</label><div class=\"sk-toggleable__content\"><pre>passthrough</pre></div></div></div></div></div></div></div></div><div class=\"sk-item sk-dashed-wrapped\"><div class=\"sk-label-container\"><div class=\"sk-label sk-toggleable\"><input class=\"sk-toggleable__control sk-hidden--visually\" id=\"12373f2c-3afd-4935-b51f-c3530aa1a52e\" type=\"checkbox\" ><label for=\"12373f2c-3afd-4935-b51f-c3530aa1a52e\" class=\"sk-toggleable__label sk-toggleable__label-arrow\">model: RUSBoostClassifier</label><div class=\"sk-toggleable__content\"><pre>RUSBoostClassifier(base_estimator=RandomForestClassifier(n_jobs=-1),\n",
       "                   random_state=0)</pre></div></div></div><div class=\"sk-parallel\"><div class=\"sk-parallel-item\"><div class=\"sk-item\"><div class=\"sk-serial\"><div class=\"sk-item\"><div class=\"sk-estimator sk-toggleable\"><input class=\"sk-toggleable__control sk-hidden--visually\" id=\"e7cee783-34a6-47ac-982c-40165a8f53aa\" type=\"checkbox\" ><label for=\"e7cee783-34a6-47ac-982c-40165a8f53aa\" class=\"sk-toggleable__label sk-toggleable__label-arrow\">RandomForestClassifier</label><div class=\"sk-toggleable__content\"><pre>RandomForestClassifier(n_jobs=-1)</pre></div></div></div></div></div></div></div></div></div></div></div></div>"
      ],
      "text/plain": [
       "Pipeline(steps=[('col_trans',\n",
       "                 ColumnTransformer(remainder='passthrough',\n",
       "                                   transformers=[('robust_scaler',\n",
       "                                                  RobustScaler(),\n",
       "                                                  ['amount', 'oldbalanceOrg',\n",
       "                                                   'oldbalanceDest'])])),\n",
       "                ('model',\n",
       "                 RUSBoostClassifier(base_estimator=RandomForestClassifier(n_jobs=-1),\n",
       "                                    random_state=0))])"
      ]
     },
     "execution_count": 17,
     "metadata": {},
     "output_type": "execute_result"
    }
   ],
   "source": [
    "pipeline = Pipeline([\n",
    "    # apply transformations\n",
    "    (\"col_trans\", ColumnTransformer(\n",
    "        transformers=[\n",
    "            # robust scaler\n",
    "            (\"robust_scaler\", RobustScaler(), ['amount', 'oldbalanceOrg', 'oldbalanceDest'])\n",
    "        ],\n",
    "        remainder='passthrough'\n",
    "    )),\n",
    "    \n",
    "    # model\n",
    "    (\"model\",\n",
    "     RUSBoostClassifier(\n",
    "         base_estimator=RandomForestClassifier(n_jobs=-1),\n",
    "         random_state=0\n",
    "     )\n",
    "    )\n",
    "])\n",
    "pipeline"
   ]
  },
  {
   "cell_type": "code",
   "execution_count": 18,
   "id": "d5322d9e-1012-4daf-a942-84a6e4bf4d10",
   "metadata": {},
   "outputs": [],
   "source": [
    "y_pred = pipeline.fit(X_train, y_train).predict(X_test)"
   ]
  },
  {
   "cell_type": "code",
   "execution_count": 19,
   "id": "136bd84e-e99b-4fbe-afba-e07883ab8a72",
   "metadata": {},
   "outputs": [
    {
     "name": "stdout",
     "output_type": "stream",
     "text": [
      "                   pre       rec       spe        f1       geo       iba       sup\n",
      "\n",
      "          0       1.00      0.96      0.81      0.98      0.88      0.79     24974\n",
      "          1       0.02      0.81      0.96      0.04      0.88      0.77        26\n",
      "\n",
      "avg / total       1.00      0.96      0.81      0.98      0.88      0.79     25000\n",
      "\n"
     ]
    }
   ],
   "source": [
    "print(classification_report_imbalanced(y_test, y_pred))"
   ]
  },
  {
   "cell_type": "code",
   "execution_count": 20,
   "id": "affb526d-48bc-43c8-84b3-330a4c349d08",
   "metadata": {},
   "outputs": [
    {
     "data": {
      "text/plain": [
       "<AxesSubplot:>"
      ]
     },
     "execution_count": 20,
     "metadata": {},
     "output_type": "execute_result"
    },
    {
     "data": {
      "image/png": "[encoded data removed]",
      "text/plain": [
       "<Figure size 720x360 with 2 Axes>"
      ]
     },
     "metadata": {},
     "output_type": "display_data"
    }
   ],
   "source": [
    "plt.figure(figsize=(10, 5))\n",
    "\n",
    "cm = confusion_matrix(y_test, y_pred, normalize='true')\n",
    "sns.heatmap(cm, annot=True)"
   ]
  },
  {
   "cell_type": "code",
   "execution_count": 21,
   "id": "31dd1bb2-422b-463b-ae7c-b6b29e42690c",
   "metadata": {},
   "outputs": [
    {
     "data": {
      "text/plain": [
       "['../Data/fraudulent-transactions-pred.pkl']"
      ]
     },
     "execution_count": 21,
     "metadata": {},
     "output_type": "execute_result"
    }
   ],
   "source": [
    "joblib.dump(pipeline, \"../Data/fraudulent-transactions-pred.pkl\")"
   ]
  },
  {
   "cell_type": "code",
   "execution_count": null,
   "id": "da2c2862-cfa5-4738-8173-8caad3ea48a6",
   "metadata": {},
   "outputs": [],
   "source": []
  }
 ],
 "metadata": {
  "kernelspec": {
   "display_name": "Python 3 (ipykernel)",
   "language": "python",
   "name": "python3"
  },
  "language_info": {
   "codemirror_mode": {
    "name": "ipython",
    "version": 3
   },
   "file_extension": ".py",
   "mimetype": "text/x-python",
   "name": "python",
   "nbconvert_exporter": "python",
   "pygments_lexer": "ipython3",
   "version": "3.9.5"
  }
 },
 "nbformat": 4,
 "nbformat_minor": 5
}
